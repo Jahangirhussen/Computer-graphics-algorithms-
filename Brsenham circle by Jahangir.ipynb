{
 "cells": [
  {
   "cell_type": "code",
   "execution_count": 1,
   "id": "5751a344-a15d-4955-b261-58608f65fde2",
   "metadata": {},
   "outputs": [],
   "source": [
    "import matplotlib.pyplot as plt\n"
   ]
  },
  {
   "cell_type": "code",
   "execution_count": 2,
   "id": "388c38a6-97ad-4346-9f70-8390d375c773",
   "metadata": {},
   "outputs": [],
   "source": [
    "def plot_circle_points(a, b, x, y):\n",
    "    plt.plot(a + x, b + y, 'bo')\n",
    "    plt.plot(a - x, b + y, 'bo')\n",
    "    plt.plot(a + x, b - y, 'bo')\n",
    "    plt.plot(a - x, b - y, 'bo')\n",
    "    plt.plot(a + y, b + x, 'bo')\n",
    "    plt.plot(a - y, b + x, 'bo')\n",
    "    plt.plot(a + y, b - x, 'bo')\n",
    "    plt.plot(a - y, b - x, 'bo')\n"
   ]
  },
  {
   "cell_type": "code",
   "execution_count": 3,
   "id": "ea990553-dad6-4bf6-bb60-722ee26cad39",
   "metadata": {},
   "outputs": [],
   "source": [
    "def draw_circle(a, b, r):\n",
    "    x = 0\n",
    "    y = r\n",
    "    p = 3 - 2 * r\n",
    "\n",
    "    plot_circle_points(a, b, x, y)\n",
    "\n",
    "    while x < y:\n",
    "        x += 1\n",
    "        if p < 0:\n",
    "            p = p + 4 * x + 6\n",
    "        else:\n",
    "            y -= 1\n",
    "            p = p + 4 * (x - y) + 10\n",
    "        plot_circle_points(a, b, x, y)\n"
   ]
  },
  {
   "cell_type": "code",
   "execution_count": 4,
   "id": "139f9545-6377-464e-81a3-53f64fe0423b",
   "metadata": {},
   "outputs": [
    {
     "name": "stdin",
     "output_type": "stream",
     "text": [
      "Enter the center coordinates (a):  2\n",
      "Enter the center coordinates (b):  3\n",
      "Enter the radius (r):  10\n"
     ]
    },
    {
     "data": {
      "image/png": "[encoded data removed]",
      "text/plain": [
       "<Figure size 640x480 with 1 Axes>"
      ]
     },
     "metadata": {},
     "output_type": "display_data"
    }
   ],
   "source": [
    "def main():\n",
    "    a = int(input(\"Enter the center coordinates (a): \"))\n",
    "    b = int(input(\"Enter the center coordinates (b): \"))\n",
    "    r = int(input(\"Enter the radius (r): \"))\n",
    "\n",
    "    draw_circle(a, b, r)\n",
    "    \n",
    "    plt.gca().set_aspect('equal', adjustable='box')\n",
    "    plt.show()\n",
    "\n",
    "if __name__ == \"__main__\":\n",
    "    main()\n"
   ]
  },
  {
   "cell_type": "code",
   "execution_count": null,
   "id": "ea3dbe91-5505-4072-ba2e-40865bec324e",
   "metadata": {},
   "outputs": [],
   "source": []
  },
  {
   "cell_type": "code",
   "execution_count": null,
   "id": "2061a794-4e92-4ff8-8a53-aabed263278c",
   "metadata": {},
   "outputs": [],
   "source": []
  },
  {
   "cell_type": "code",
   "execution_count": null,
   "id": "df53556c-94be-426b-a888-703b2a7fca4c",
   "metadata": {},
   "outputs": [],
   "source": []
  }
 ],
 "metadata": {
  "kernelspec": {
   "display_name": "Python 3 (ipykernel)",
   "language": "python",
   "name": "python3"
  },
  "language_info": {
   "codemirror_mode": {
    "name": "ipython",
    "version": 3
   },
   "file_extension": ".py",
   "mimetype": "text/x-python",
   "name": "python",
   "nbconvert_exporter": "python",
   "pygments_lexer": "ipython3",
   "version": "3.12.3"
  },
  "widgets": {
   "application/vnd.jupyter.widget-state+json": {
    "state": {},
    "version_major": 2,
    "version_minor": 0
   }
  }
 },
 "nbformat": 4,
 "nbformat_minor": 5
}
