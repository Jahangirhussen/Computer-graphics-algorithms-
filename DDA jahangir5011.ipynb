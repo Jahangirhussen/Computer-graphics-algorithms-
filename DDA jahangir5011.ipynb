{
 "cells": [
  {
   "cell_type": "code",
   "execution_count": 1,
   "id": "806caa49",
   "metadata": {},
   "outputs": [],
   "source": [
    "# pip install matplotlib\n"
   ]
  },
  {
   "cell_type": "code",
   "execution_count": 2,
   "id": "f07f418d",
   "metadata": {},
   "outputs": [],
   "source": [
    "import matplotlib.pyplot as plt"
   ]
  },
  {
   "cell_type": "code",
   "execution_count": 3,
   "id": "a2b37788",
   "metadata": {},
   "outputs": [],
   "source": [
    "def dda(x1, y1, x2, y2):\n",
    "    dx = x2 - x1\n",
    "    dy = y2 - y1\n",
    "\n",
    "    steps = max(abs(dx), abs(dy))\n",
    "\n",
    "    x_inc = dx / steps\n",
    "    y_inc = dy / steps\n",
    "\n",
    "    x = x1\n",
    "    y = y1\n",
    "    \n",
    "    x_coords = [x]\n",
    "    y_coords = [y]\n",
    "    \n",
    "    print(\"All updated X and Y is :\")\n",
    "    for i in range(int(steps)):\n",
    "        x += x_inc\n",
    "        y += y_inc\n",
    "        x_coords.append(round(x))\n",
    "        y_coords.append(round(y))\n",
    "        print(\"           \", round(x), \"     \", round(y))\n",
    "\n",
    "    return x_coords, y_coords"
   ]
  },
  {
   "cell_type": "code",
   "execution_count": 4,
   "id": "6d1168a3",
   "metadata": {},
   "outputs": [
    {
     "name": "stdout",
     "output_type": "stream",
     "text": [
      "Enter starting point x1: 8\n",
      "Enter starting point y1: 5\n",
      "Enter ending point x2: 1\n",
      "Enter ending point y2: 1\n",
      "All updated X and Y is :\n",
      "            7       4\n",
      "            6       4\n",
      "            5       3\n",
      "            4       3\n",
      "            3       2\n",
      "            2       2\n",
      "            1       1\n"
     ]
    }
   ],
   "source": [
    "x1 = float(input(\"Enter starting point x1: \"))\n",
    "y1 = float(input(\"Enter starting point y1: \"))\n",
    "x2 = float(input(\"Enter ending point x2: \"))\n",
    "y2 = float(input(\"Enter ending point y2: \"))\n",
    "\n",
    "x_coords, y_coords = dda(x1, y1, x2, y2)\n",
    "\n",
    "\n"
   ]
  },
  {
   "cell_type": "code",
   "execution_count": 5,
   "id": "27cfea6a",
   "metadata": {},
   "outputs": [
    {
     "data": {
      "image/png": "[encoded data removed]",
      "text/plain": [
       "<Figure size 432x288 with 1 Axes>"
      ]
     },
     "metadata": {
      "needs_background": "light"
     },
     "output_type": "display_data"
    }
   ],
   "source": [
    "plt.plot(x_coords, y_coords, marker='o')\n",
    "plt.title('DDA Line Algorithm by Jahangir hussen')\n",
    "plt.xlabel('X')\n",
    "plt.ylabel('Y')\n",
    "plt.grid(True)\n",
    "plt.show()"
   ]
  },
  {
   "cell_type": "code",
   "execution_count": null,
   "id": "5a3aa24b",
   "metadata": {},
   "outputs": [],
   "source": []
  }
 ],
 "metadata": {
  "kernelspec": {
   "display_name": "Python 3 (ipykernel)",
   "language": "python",
   "name": "python3"
  },
  "language_info": {
   "codemirror_mode": {
    "name": "ipython",
    "version": 3
   },
   "file_extension": ".py",
   "mimetype": "text/x-python",
   "name": "python",
   "nbconvert_exporter": "python",
   "pygments_lexer": "ipython3",
   "version": "3.9.12"
  }
 },
 "nbformat": 4,
 "nbformat_minor": 5
}
