{
 "cells": [
  {
   "cell_type": "code",
   "execution_count": 1,
   "id": "45105e67-42d9-40a5-a460-0d120a467b34",
   "metadata": {},
   "outputs": [],
   "source": [
    "import matplotlib.pyplot as plt\n"
   ]
  },
  {
   "cell_type": "code",
   "execution_count": 2,
   "id": "39277112-cd69-47f2-9cc2-ba02b2cf6741",
   "metadata": {},
   "outputs": [],
   "source": [
    "def plot_circle_points(a, b, x, y):\n",
    "    plt.plot(a + x, b + y, 'bo')\n",
    "    plt.plot(a - x, b + y, 'bo')\n",
    "    plt.plot(a + x, b - y, 'bo')\n",
    "    plt.plot(a - x, b - y, 'bo')\n",
    "    plt.plot(a + y, b + x, 'bo')\n",
    "    plt.plot(a - y, b + x, 'bo')\n",
    "    plt.plot(a + y, b - x, 'bo')\n",
    "    plt.plot(a - y, b - x, 'bo')\n"
   ]
  },
  {
   "cell_type": "code",
   "execution_count": 3,
   "id": "c1a4d18d-758a-4d79-ab30-a2ccd8759256",
   "metadata": {},
   "outputs": [],
   "source": [
    "def draw_circle(a, b, r):\n",
    "    x = 0\n",
    "    y = r\n",
    "    p = 1 - r\n",
    "\n",
    "    plot_circle_points(a, b, x, y)\n",
    "\n",
    "    while x < y:\n",
    "        x += 1\n",
    "        if p < 0:\n",
    "            p = p + 2 * x + 1\n",
    "        else:\n",
    "            y -= 1\n",
    "            p = p + 2 * (x - y) + 1\n",
    "        plot_circle_points(a, b, x, y)\n"
   ]
  },
  {
   "cell_type": "code",
   "execution_count": 4,
   "id": "23ee6214-5aff-40c9-9bb0-8d241279a24f",
   "metadata": {},
   "outputs": [
    {
     "name": "stdin",
     "output_type": "stream",
     "text": [
      "Enter the center coordinates (a):  2\n",
      "Enter the center coordinates (b):  3\n",
      "Enter the radius (r):  10\n"
     ]
    },
    {
     "data": {
      "image/png": "[encoded data removed]",
      "text/plain": [
       "<Figure size 640x480 with 1 Axes>"
      ]
     },
     "metadata": {},
     "output_type": "display_data"
    }
   ],
   "source": [
    "def main():\n",
    "    a = int(input(\"Enter the center coordinates (a): \"))\n",
    "    b = int(input(\"Enter the center coordinates (b): \"))\n",
    "    r = int(input(\"Enter the radius (r): \"))\n",
    "\n",
    "    draw_circle(a, b, r)\n",
    "    \n",
    "    plt.gca().set_aspect('equal', adjustable='box')\n",
    "    plt.show()\n",
    "\n",
    "if __name__ == \"__main__\":\n",
    "    main()\n"
   ]
  },
  {
   "cell_type": "code",
   "execution_count": null,
   "id": "48452043-7daa-4762-8d08-5eec545c6268",
   "metadata": {},
   "outputs": [],
   "source": []
  },
  {
   "cell_type": "code",
   "execution_count": null,
   "id": "de25ee61-5863-433e-80c0-409b09f8b6d7",
   "metadata": {},
   "outputs": [],
   "source": []
  },
  {
   "cell_type": "code",
   "execution_count": null,
   "id": "f991d5e7-7e62-4288-b124-40b68cd02787",
   "metadata": {},
   "outputs": [],
   "source": []
  },
  {
   "cell_type": "code",
   "execution_count": null,
   "id": "68e26531-401b-4a56-a45e-98fdd75fce3c",
   "metadata": {},
   "outputs": [],
   "source": []
  }
 ],
 "metadata": {
  "kernelspec": {
   "display_name": "Python 3 (ipykernel)",
   "language": "python",
   "name": "python3"
  },
  "language_info": {
   "codemirror_mode": {
    "name": "ipython",
    "version": 3
   },
   "file_extension": ".py",
   "mimetype": "text/x-python",
   "name": "python",
   "nbconvert_exporter": "python",
   "pygments_lexer": "ipython3",
   "version": "3.12.3"
  },
  "widgets": {
   "application/vnd.jupyter.widget-state+json": {
    "state": {},
    "version_major": 2,
    "version_minor": 0
   }
  }
 },
 "nbformat": 4,
 "nbformat_minor": 5
}
